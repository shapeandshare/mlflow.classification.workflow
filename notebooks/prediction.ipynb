{
 "cells": [
  {
   "cell_type": "code",
   "execution_count": null,
   "outputs": [],
   "source": [
    "# Imported here in this order to enforce logging of Tensorflow\n",
    "import os\n",
    "\n",
    "os.environ[\"TF_CPP_MIN_LOG_LEVEL\"] = \"3\"\n",
    "import tensorflow as tf"
   ],
   "metadata": {
    "collapsed": false
   }
  },
  {
   "cell_type": "code",
   "execution_count": null,
   "outputs": [],
   "source": [
    "import pandas as pd\n",
    "from anaconda.enterprise.server.common.sdk import load_ae5_user_secrets\n",
    "from dotenv import load_dotenv\n",
    "\n",
    "# load defined environmental variables\n",
    "load_ae5_user_secrets()\n",
    "load_dotenv(dotenv_path=\"../env/env.dev\")"
   ],
   "metadata": {
    "collapsed": false
   }
  },
  {
   "cell_type": "code",
   "execution_count": null,
   "outputs": [],
   "source": [
    "from tensorflow.python.trackable.autotrackable import AutoTrackable\n",
    "from typing import Union, Any\n",
    "import mlflow\n",
    "\n",
    "\n",
    "def load_model(model_name: str, model_version: int) -> Union[None | list[Any | None] | AutoTrackable]:\n",
    "    model_uri: str = f\"models:/{model_name}/{model_version}\"\n",
    "    return mlflow.tensorflow.load_model(model_uri=model_uri)"
   ],
   "metadata": {
    "collapsed": false
   }
  },
  {
   "cell_type": "code",
   "execution_count": null,
   "outputs": [],
   "source": [
    "import numpy as np\n",
    "import cv2\n",
    "\n",
    "\n",
    "def load_image(image_path: str) -> np.ndarray:\n",
    "    return cv2.cvtColor(cv2.imread(image_path, cv2.IMREAD_REDUCED_COLOR_8), cv2.COLOR_BGR2RGB)"
   ],
   "metadata": {
    "collapsed": false
   }
  },
  {
   "cell_type": "code",
   "execution_count": null,
   "outputs": [],
   "source": [],
   "metadata": {
    "collapsed": false
   }
  },
  {
   "cell_type": "code",
   "execution_count": null,
   "metadata": {},
   "outputs": [],
   "source": [
    "from pathlib import Path\n",
    "\n",
    "# import tensorflow as tf\n",
    "\n",
    "IMAGE_HEIGHT: int = 28\n",
    "IMAGE_WIDTH: int = 28\n",
    "\n",
    "# dimensions for resize for model input\n",
    "dim = (IMAGE_WIDTH, IMAGE_HEIGHT)\n",
    "\n",
    "\n",
    "def generate_model_input_single(file: Path) -> tf.Tensor:\n",
    "    image_array: np.ndarray = load_image(image_path=file.resolve().as_posix())\n",
    "\n",
    "    # resize for model input\n",
    "    image_array_resized = cv2.resize(image_array, dim)\n",
    "\n",
    "    # expand the dimensions of the input for a batch of 1\n",
    "    model_input: tf.Tensor = tf.expand_dims(image_array_resized, 0)\n",
    "\n",
    "    return model_input"
   ]
  },
  {
   "cell_type": "code",
   "execution_count": null,
   "metadata": {},
   "outputs": [],
   "source": [
    "from keras import engine\n",
    "\n",
    "# Load a model\n",
    "model_name: str = \"jburt.dev.mlflow.classification.workflow\"\n",
    "model_version: int = 3\n",
    "model: engine.functional.Functional = load_model(model_name=model_name, model_version=model_version)"
   ]
  },
  {
   "cell_type": "code",
   "execution_count": null,
   "outputs": [],
   "source": [
    "from keras import engine\n",
    "from anaconda.enterprise.server.contracts import BaseModel\n",
    "\n",
    "\n",
    "class Predictor(BaseModel):\n",
    "    model: engine.functional.Functional\n",
    "\n",
    "    @staticmethod\n",
    "    def _pre_process(input_image: Path) -> tf.Tensor:\n",
    "        input_tensor: tf.Tensor = generate_model_input_single(file=input_image)\n",
    "        return input_tensor\n",
    "\n",
    "    @staticmethod\n",
    "    def _post_process(predictions: tf.Tensor) -> int:\n",
    "        # apply softmax and get our final predictions\n",
    "        score = tf.nn.softmax(predictions[0])\n",
    "\n",
    "        results_dict: dict = {}\n",
    "\n",
    "        for class_id in range(0, 9):\n",
    "            class_score = score[class_id].numpy()\n",
    "            # print(f\"{class_id} / {class_score}\")\n",
    "            results_dict[class_id] = [class_score]\n",
    "\n",
    "        results_df: pd.DataFrame = pd.DataFrame(results_dict)\n",
    "\n",
    "        prediction_class_id: int = results_df.idxmax(axis=1)[0]\n",
    "        # print(prediction_class_id)\n",
    "        return prediction_class_id\n",
    "\n",
    "    def _predict(self, input: tf.Tensor) -> tf.Tensor:\n",
    "        # Get predictions\n",
    "        mode_predictions_raw: tf.Tensor = self.model.predict(input, verbose=0)\n",
    "        return mode_predictions_raw\n",
    "\n",
    "    def predict(self, input: Path) -> int:\n",
    "        preprocessed: tf.Tensor = Predictor._pre_process(input_image=input)\n",
    "        raw_predictions: tf.Tensor = self._predict(input=preprocessed)\n",
    "        return Predictor._post_process(predictions=raw_predictions)"
   ],
   "metadata": {
    "collapsed": false
   }
  },
  {
   "cell_type": "code",
   "execution_count": null,
   "outputs": [],
   "source": [
    "predictor = Predictor(model=model)"
   ],
   "metadata": {
    "collapsed": false
   }
  },
  {
   "cell_type": "code",
   "execution_count": null,
   "outputs": [],
   "source": [
    "# # get input data\n",
    "# input_image: Path = Path(\"..\") / \"data\" / \"etl\" / \"test\" / \"0\" / \"mnist_test_0_28x28_3.png\"\n",
    "# result = predictor.predict(input=input_image)\n",
    "# print(result)"
   ],
   "metadata": {
    "collapsed": false
   }
  },
  {
   "cell_type": "code",
   "execution_count": null,
   "outputs": [],
   "source": [
    "from pathlib import Path\n",
    "\n",
    "for ground_truth_value in range(0, 9):\n",
    "    input_path: Path = Path(\"..\") / \"data\" / \"etl\" / \"test\" / str(ground_truth_value)\n",
    "    for file_path in input_path.glob(\"*.png\"):\n",
    "        result = predictor.predict(input=file_path)\n",
    "        print(f\"file: {file_path.name}, ground truth: {ground_truth_value}, prediction: {result}\")"
   ],
   "metadata": {
    "collapsed": false
   }
  },
  {
   "cell_type": "code",
   "execution_count": null,
   "outputs": [],
   "source": [],
   "metadata": {
    "collapsed": false
   }
  }
 ],
 "metadata": {
  "kernelspec": {
   "display_name": "Python 3",
   "language": "python",
   "name": "python3"
  },
  "language_info": {
   "codemirror_mode": {
    "name": "ipython",
    "version": 2
   },
   "file_extension": ".py",
   "mimetype": "text/x-python",
   "name": "python",
   "nbconvert_exporter": "python",
   "pygments_lexer": "ipython2",
   "version": "2.7.6"
  }
 },
 "nbformat": 4,
 "nbformat_minor": 0
}
