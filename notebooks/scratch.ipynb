{
 "cells": [
  {
   "cell_type": "code",
   "execution_count": 5,
   "outputs": [
    {
     "name": "stdout",
     "output_type": "stream",
     "text": [
      "Skipping loading AE5 user secrets, specified secrets path not found: /var/run/secrets/user_credentials/\n"
     ]
    }
   ],
   "source": [
    "from src.anaconda.ae5.secrets import load_ae5_user_secrets\n",
    "from dotenv import load_dotenv\n",
    "\n",
    "# load defined environmental variables\n",
    "load_dotenv(dotenv_path=\"../env/.env.ae5.production\")\n",
    "load_ae5_user_secrets()"
   ],
   "metadata": {
    "collapsed": false
   }
  },
  {
   "cell_type": "code",
   "execution_count": 8,
   "outputs": [
    {
     "ename": "OSError",
     "evalue": "No such file or directory: 'data/mlflow/production/artifacts/2/d40f38f9b5af450fa4a0d0422d94f7d2/artifacts/model/.'",
     "output_type": "error",
     "traceback": [
      "\u001B[0;31m---------------------------------------------------------------------------\u001B[0m",
      "\u001B[0;31mOSError\u001B[0m                                   Traceback (most recent call last)",
      "Cell \u001B[0;32mIn [8], line 5\u001B[0m\n\u001B[1;32m      1\u001B[0m \u001B[38;5;28;01mfrom\u001B[39;00m \u001B[38;5;21;01msrc\u001B[39;00m\u001B[38;5;21;01m.\u001B[39;00m\u001B[38;5;21;01manaconda\u001B[39;00m\u001B[38;5;21;01m.\u001B[39;00m\u001B[38;5;21;01mmlflow\u001B[39;00m\u001B[38;5;21;01m.\u001B[39;00m\u001B[38;5;21;01mtracking\u001B[39;00m\u001B[38;5;21;01m.\u001B[39;00m\u001B[38;5;21;01mutils\u001B[39;00m \u001B[38;5;28;01mimport\u001B[39;00m load_model_by_stage\n\u001B[1;32m      3\u001B[0m \u001B[38;5;66;03m# !python -m src.anaconda.mlflow.model.serving.handler --model mlflow.classification.workflow --stage Staging\u001B[39;00m\n\u001B[0;32m----> 5\u001B[0m \u001B[43mload_model_by_stage\u001B[49m\u001B[43m(\u001B[49m\u001B[43mmodel_name\u001B[49m\u001B[38;5;241;43m=\u001B[39;49m\u001B[38;5;124;43m\"\u001B[39;49m\u001B[38;5;124;43mmlflow.classification.workflow\u001B[39;49m\u001B[38;5;124;43m\"\u001B[39;49m\u001B[43m,\u001B[49m\u001B[43m \u001B[49m\u001B[43mstage\u001B[49m\u001B[38;5;241;43m=\u001B[39;49m\u001B[38;5;124;43m\"\u001B[39;49m\u001B[38;5;124;43mStaging\u001B[39;49m\u001B[38;5;124;43m\"\u001B[39;49m\u001B[43m)\u001B[49m\n",
      "File \u001B[0;32m~/Workbench/Repositories/mlflow.classification.workflow/src/anaconda/mlflow/tracking/utils.py:16\u001B[0m, in \u001B[0;36mload_model_by_stage\u001B[0;34m(model_name, stage)\u001B[0m\n\u001B[1;32m     14\u001B[0m \u001B[38;5;28;01mdef\u001B[39;00m \u001B[38;5;21mload_model_by_stage\u001B[39m(model_name: \u001B[38;5;28mstr\u001B[39m, stage: \u001B[38;5;28mstr\u001B[39m) \u001B[38;5;241m-\u001B[39m\u001B[38;5;241m>\u001B[39m PyFuncModel:\n\u001B[1;32m     15\u001B[0m     model_uri: \u001B[38;5;28mstr\u001B[39m \u001B[38;5;241m=\u001B[39m \u001B[38;5;124mf\u001B[39m\u001B[38;5;124m\"\u001B[39m\u001B[38;5;124mmodels:/\u001B[39m\u001B[38;5;132;01m{\u001B[39;00mmodel_name\u001B[38;5;132;01m}\u001B[39;00m\u001B[38;5;124m/\u001B[39m\u001B[38;5;132;01m{\u001B[39;00mstage\u001B[38;5;132;01m}\u001B[39;00m\u001B[38;5;124m\"\u001B[39m\n\u001B[0;32m---> 16\u001B[0m     \u001B[38;5;28;01mreturn\u001B[39;00m \u001B[43mload_model_by_run\u001B[49m\u001B[43m(\u001B[49m\u001B[43mlogged_model\u001B[49m\u001B[38;5;241;43m=\u001B[39;49m\u001B[43mmodel_uri\u001B[49m\u001B[43m)\u001B[49m\n",
      "File \u001B[0;32m~/Workbench/Repositories/mlflow.classification.workflow/src/anaconda/mlflow/tracking/utils.py:11\u001B[0m, in \u001B[0;36mload_model_by_run\u001B[0;34m(logged_model)\u001B[0m\n\u001B[1;32m     10\u001B[0m \u001B[38;5;28;01mdef\u001B[39;00m \u001B[38;5;21mload_model_by_run\u001B[39m(logged_model: \u001B[38;5;28mstr\u001B[39m) \u001B[38;5;241m-\u001B[39m\u001B[38;5;241m>\u001B[39m PyFuncModel:\n\u001B[0;32m---> 11\u001B[0m     \u001B[38;5;28;01mreturn\u001B[39;00m \u001B[43mmlflow\u001B[49m\u001B[38;5;241;43m.\u001B[39;49m\u001B[43mpyfunc\u001B[49m\u001B[38;5;241;43m.\u001B[39;49m\u001B[43mload_model\u001B[49m\u001B[43m(\u001B[49m\u001B[43mmodel_uri\u001B[49m\u001B[38;5;241;43m=\u001B[39;49m\u001B[43mlogged_model\u001B[49m\u001B[43m)\u001B[49m\n",
      "File \u001B[0;32m/opt/anaconda3/envs/mlflow.classification.workflow/lib/python3.10/site-packages/mlflow/pyfunc/__init__.py:509\u001B[0m, in \u001B[0;36mload_model\u001B[0;34m(model_uri, suppress_warnings, dst_path)\u001B[0m\n\u001B[1;32m    481\u001B[0m \u001B[38;5;28;01mdef\u001B[39;00m \u001B[38;5;21mload_model\u001B[39m(\n\u001B[1;32m    482\u001B[0m     model_uri: \u001B[38;5;28mstr\u001B[39m,\n\u001B[1;32m    483\u001B[0m     suppress_warnings: \u001B[38;5;28mbool\u001B[39m \u001B[38;5;241m=\u001B[39m \u001B[38;5;28;01mFalse\u001B[39;00m,\n\u001B[1;32m    484\u001B[0m     dst_path: \u001B[38;5;28mstr\u001B[39m \u001B[38;5;241m=\u001B[39m \u001B[38;5;28;01mNone\u001B[39;00m,\n\u001B[1;32m    485\u001B[0m ) \u001B[38;5;241m-\u001B[39m\u001B[38;5;241m>\u001B[39m PyFuncModel:\n\u001B[1;32m    486\u001B[0m     \u001B[38;5;124;03m\"\"\"\u001B[39;00m\n\u001B[1;32m    487\u001B[0m \u001B[38;5;124;03m    Load a model stored in Python function format.\u001B[39;00m\n\u001B[1;32m    488\u001B[0m \n\u001B[0;32m   (...)\u001B[0m\n\u001B[1;32m    507\u001B[0m \u001B[38;5;124;03m                     path will be created.\u001B[39;00m\n\u001B[1;32m    508\u001B[0m \u001B[38;5;124;03m    \"\"\"\u001B[39;00m\n\u001B[0;32m--> 509\u001B[0m     local_path \u001B[38;5;241m=\u001B[39m \u001B[43m_download_artifact_from_uri\u001B[49m\u001B[43m(\u001B[49m\u001B[43martifact_uri\u001B[49m\u001B[38;5;241;43m=\u001B[39;49m\u001B[43mmodel_uri\u001B[49m\u001B[43m,\u001B[49m\u001B[43m \u001B[49m\u001B[43moutput_path\u001B[49m\u001B[38;5;241;43m=\u001B[39;49m\u001B[43mdst_path\u001B[49m\u001B[43m)\u001B[49m\n\u001B[1;32m    511\u001B[0m     \u001B[38;5;28;01mif\u001B[39;00m \u001B[38;5;129;01mnot\u001B[39;00m suppress_warnings:\n\u001B[1;32m    512\u001B[0m         _warn_dependency_requirement_mismatches(local_path)\n",
      "File \u001B[0;32m/opt/anaconda3/envs/mlflow.classification.workflow/lib/python3.10/site-packages/mlflow/tracking/artifact_utils.py:100\u001B[0m, in \u001B[0;36m_download_artifact_from_uri\u001B[0;34m(artifact_uri, output_path)\u001B[0m\n\u001B[1;32m     94\u001B[0m \u001B[38;5;124;03m\"\"\"\u001B[39;00m\n\u001B[1;32m     95\u001B[0m \u001B[38;5;124;03m:param artifact_uri: The *absolute* URI of the artifact to download.\u001B[39;00m\n\u001B[1;32m     96\u001B[0m \u001B[38;5;124;03m:param output_path: The local filesystem path to which to download the artifact. If unspecified,\u001B[39;00m\n\u001B[1;32m     97\u001B[0m \u001B[38;5;124;03m                    a local output path will be created.\u001B[39;00m\n\u001B[1;32m     98\u001B[0m \u001B[38;5;124;03m\"\"\"\u001B[39;00m\n\u001B[1;32m     99\u001B[0m root_uri, artifact_path \u001B[38;5;241m=\u001B[39m _get_root_uri_and_artifact_path(artifact_uri)\n\u001B[0;32m--> 100\u001B[0m \u001B[38;5;28;01mreturn\u001B[39;00m \u001B[43mget_artifact_repository\u001B[49m\u001B[43m(\u001B[49m\u001B[43martifact_uri\u001B[49m\u001B[38;5;241;43m=\u001B[39;49m\u001B[43mroot_uri\u001B[49m\u001B[43m)\u001B[49m\u001B[38;5;241;43m.\u001B[39;49m\u001B[43mdownload_artifacts\u001B[49m\u001B[43m(\u001B[49m\n\u001B[1;32m    101\u001B[0m \u001B[43m    \u001B[49m\u001B[43martifact_path\u001B[49m\u001B[38;5;241;43m=\u001B[39;49m\u001B[43martifact_path\u001B[49m\u001B[43m,\u001B[49m\u001B[43m \u001B[49m\u001B[43mdst_path\u001B[49m\u001B[38;5;241;43m=\u001B[39;49m\u001B[43moutput_path\u001B[49m\n\u001B[1;32m    102\u001B[0m \u001B[43m\u001B[49m\u001B[43m)\u001B[49m\n",
      "File \u001B[0;32m/opt/anaconda3/envs/mlflow.classification.workflow/lib/python3.10/site-packages/mlflow/store/artifact/models_artifact_repo.py:126\u001B[0m, in \u001B[0;36mModelsArtifactRepository.download_artifacts\u001B[0;34m(self, artifact_path, dst_path)\u001B[0m\n\u001B[1;32m    111\u001B[0m \u001B[38;5;28;01mdef\u001B[39;00m \u001B[38;5;21mdownload_artifacts\u001B[39m(\u001B[38;5;28mself\u001B[39m, artifact_path, dst_path\u001B[38;5;241m=\u001B[39m\u001B[38;5;28;01mNone\u001B[39;00m):\n\u001B[1;32m    112\u001B[0m     \u001B[38;5;124;03m\"\"\"\u001B[39;00m\n\u001B[1;32m    113\u001B[0m \u001B[38;5;124;03m    Download an artifact file or directory to a local directory if applicable, and return a\u001B[39;00m\n\u001B[1;32m    114\u001B[0m \u001B[38;5;124;03m    local path for it.\u001B[39;00m\n\u001B[0;32m   (...)\u001B[0m\n\u001B[1;32m    124\u001B[0m \u001B[38;5;124;03m    :return: Absolute path of the local filesystem location containing the desired artifacts.\u001B[39;00m\n\u001B[1;32m    125\u001B[0m \u001B[38;5;124;03m    \"\"\"\u001B[39;00m\n\u001B[0;32m--> 126\u001B[0m     \u001B[38;5;28;01mreturn\u001B[39;00m \u001B[38;5;28;43mself\u001B[39;49m\u001B[38;5;241;43m.\u001B[39;49m\u001B[43mrepo\u001B[49m\u001B[38;5;241;43m.\u001B[39;49m\u001B[43mdownload_artifacts\u001B[49m\u001B[43m(\u001B[49m\u001B[43martifact_path\u001B[49m\u001B[43m,\u001B[49m\u001B[43m \u001B[49m\u001B[43mdst_path\u001B[49m\u001B[43m)\u001B[49m\n",
      "File \u001B[0;32m/opt/anaconda3/envs/mlflow.classification.workflow/lib/python3.10/site-packages/mlflow/store/artifact/local_artifact_repo.py:79\u001B[0m, in \u001B[0;36mLocalArtifactRepository.download_artifacts\u001B[0;34m(self, artifact_path, dst_path)\u001B[0m\n\u001B[1;32m     77\u001B[0m local_artifact_path \u001B[38;5;241m=\u001B[39m os\u001B[38;5;241m.\u001B[39mpath\u001B[38;5;241m.\u001B[39mjoin(\u001B[38;5;28mself\u001B[39m\u001B[38;5;241m.\u001B[39martifact_dir, os\u001B[38;5;241m.\u001B[39mpath\u001B[38;5;241m.\u001B[39mnormpath(artifact_path))\n\u001B[1;32m     78\u001B[0m \u001B[38;5;28;01mif\u001B[39;00m \u001B[38;5;129;01mnot\u001B[39;00m os\u001B[38;5;241m.\u001B[39mpath\u001B[38;5;241m.\u001B[39mexists(local_artifact_path):\n\u001B[0;32m---> 79\u001B[0m     \u001B[38;5;28;01mraise\u001B[39;00m \u001B[38;5;167;01mIOError\u001B[39;00m(\u001B[38;5;124m\"\u001B[39m\u001B[38;5;124mNo such file or directory: \u001B[39m\u001B[38;5;124m'\u001B[39m\u001B[38;5;132;01m{}\u001B[39;00m\u001B[38;5;124m'\u001B[39m\u001B[38;5;124m\"\u001B[39m\u001B[38;5;241m.\u001B[39mformat(local_artifact_path))\n\u001B[1;32m     80\u001B[0m \u001B[38;5;28;01mreturn\u001B[39;00m os\u001B[38;5;241m.\u001B[39mpath\u001B[38;5;241m.\u001B[39mabspath(local_artifact_path)\n",
      "\u001B[0;31mOSError\u001B[0m: No such file or directory: 'data/mlflow/production/artifacts/2/d40f38f9b5af450fa4a0d0422d94f7d2/artifacts/model/.'"
     ]
    }
   ],
   "source": [
    "from src.anaconda.mlflow.tracking.utils import load_model_by_stage\n",
    "\n",
    "# !python -m src.anaconda.mlflow.model.serving.handler --model mlflow.classification.workflow --stage Staging\n",
    "\n",
    "load_model_by_stage(model_name=\"mlflow.classification.workflow\", stage=\"Staging\")"
   ],
   "metadata": {
    "collapsed": false
   }
  },
  {
   "cell_type": "code",
   "execution_count": null,
   "outputs": [],
   "source": [],
   "metadata": {
    "collapsed": false
   }
  }
 ],
 "metadata": {
  "kernelspec": {
   "display_name": "Python 3",
   "language": "python",
   "name": "python3"
  },
  "language_info": {
   "codemirror_mode": {
    "name": "ipython",
    "version": 2
   },
   "file_extension": ".py",
   "mimetype": "text/x-python",
   "name": "python",
   "nbconvert_exporter": "python",
   "pygments_lexer": "ipython2",
   "version": "2.7.6"
  }
 },
 "nbformat": 4,
 "nbformat_minor": 0
}
