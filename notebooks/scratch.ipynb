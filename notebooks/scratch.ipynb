{
 "cells": [
  {
   "cell_type": "code",
   "execution_count": 3,
   "outputs": [
    {
     "data": {
      "text/plain": "True"
     },
     "execution_count": 3,
     "metadata": {},
     "output_type": "execute_result"
    }
   ],
   "source": [
    "from anaconda.enterprise.server.common.sdk import load_ae5_user_secrets\n",
    "from dotenv import load_dotenv\n",
    "\n",
    "# load defined environmental variables\n",
    "load_ae5_user_secrets()\n",
    "load_dotenv(dotenv_path=\"../env/env.dev\")"
   ],
   "metadata": {
    "collapsed": false
   }
  },
  {
   "cell_type": "code",
   "execution_count": 4,
   "outputs": [],
   "source": [
    "import mlflow\n",
    "from mlflow.pyfunc import PyFuncModel\n",
    "\n",
    "\n",
    "def load_model(model_name: str, model_version: int) -> PyFuncModel:\n",
    "    model_uri: str = f\"models:/{model_name}/{model_version}\"\n",
    "    return load_model_by_run(logged_model=model_uri)\n",
    "\n",
    "\n",
    "def load_model_by_run(logged_model: str) -> PyFuncModel:\n",
    "    return mlflow.pyfunc.load_model(model_uri=logged_model)\n",
    "\n",
    "\n",
    "def load_model_by_stage(model_name: str, stage: str) -> PyFuncModel:\n",
    "    model_uri: str = f\"models:/{model_name}/{stage}\"\n",
    "    return load_model_by_run(logged_model=model_uri)"
   ],
   "metadata": {
    "collapsed": false
   }
  },
  {
   "cell_type": "code",
   "execution_count": 6,
   "outputs": [
    {
     "name": "stdout",
     "output_type": "stream",
     "text": [
      "WARNING:tensorflow:No training configuration found in save file, so the model was *not* compiled. Compile it manually.\n"
     ]
    },
    {
     "name": "stderr",
     "output_type": "stream",
     "text": [
      "/Users/joshburt/miniconda3/envs/mlflow.classification.workflow/lib/python3.10/site-packages/keras/backend.py:451: UserWarning: `tf.keras.backend.set_learning_phase` is deprecated and will be removed after 2020-10-11. To update it, simply pass a True/False value to the `training` argument of the `__call__` method of your layer or model.\n",
      "  warnings.warn(\n"
     ]
    }
   ],
   "source": [
    "# !python -m src.anaconda.mlflow.model.serving.handler --model mlflow.classification.workflow --stage Staging\n",
    "\n",
    "model = load_model_by_stage(model_name=\"jburt.dev.mlflow.classification.workflow\", stage=\"3\")"
   ],
   "metadata": {
    "collapsed": false
   }
  },
  {
   "cell_type": "code",
   "execution_count": 7,
   "outputs": [
    {
     "data": {
      "text/plain": "mlflow.pyfunc.loaded_model:\n  artifact_path: model\n  flavor: mlflow.tensorflow\n  run_id: a43cbf9fdc6f40fb8752bc402cfcff38"
     },
     "execution_count": 7,
     "metadata": {},
     "output_type": "execute_result"
    }
   ],
   "source": [
    "model"
   ],
   "metadata": {
    "collapsed": false
   }
  },
  {
   "cell_type": "code",
   "execution_count": null,
   "outputs": [],
   "source": [],
   "metadata": {
    "collapsed": false
   }
  }
 ],
 "metadata": {
  "kernelspec": {
   "display_name": "Python 3",
   "language": "python",
   "name": "python3"
  },
  "language_info": {
   "codemirror_mode": {
    "name": "ipython",
    "version": 2
   },
   "file_extension": ".py",
   "mimetype": "text/x-python",
   "name": "python",
   "nbconvert_exporter": "python",
   "pygments_lexer": "ipython2",
   "version": "2.7.6"
  }
 },
 "nbformat": 4,
 "nbformat_minor": 0
}
